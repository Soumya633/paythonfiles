{
 "cells": [
  {
   "cell_type": "markdown",
   "id": "af19fb2e",
   "metadata": {},
   "source": [
    "# Conditional Statements\n",
    "- They help us to get output depending upon certain conditions.\n",
    "- if\n",
    "- elif\n",
    "- else"
   ]
  },
  {
   "cell_type": "code",
   "execution_count": 2,
   "id": "06ada5d9-3672-4126-a443-ad09c9aa7f17",
   "metadata": {},
   "outputs": [
    {
     "data": {
      "text/plain": [
       "(52, 22)"
      ]
     },
     "execution_count": 2,
     "metadata": {},
     "output_type": "execute_result"
    }
   ],
   "source": [
    "a = 52\n",
    "b = 22\n",
    "\n",
    "a,b"
   ]
  },
  {
   "cell_type": "code",
   "execution_count": 3,
   "id": "57e6df9e-38ff-49fe-b12d-1971d3b975c6",
   "metadata": {},
   "outputs": [
    {
     "data": {
      "text/plain": [
       "False"
      ]
     },
     "execution_count": 3,
     "metadata": {},
     "output_type": "execute_result"
    }
   ],
   "source": [
    "a == b"
   ]
  },
  {
   "cell_type": "code",
   "execution_count": 4,
   "id": "b4ebf960-edf6-4b7b-ae70-2e08c6495173",
   "metadata": {},
   "outputs": [
    {
     "data": {
      "text/plain": [
       "True"
      ]
     },
     "execution_count": 4,
     "metadata": {},
     "output_type": "execute_result"
    }
   ],
   "source": [
    "a != b"
   ]
  },
  {
   "cell_type": "code",
   "execution_count": 5,
   "id": "c80df889-49c3-42a1-8b42-88fbb8347cb4",
   "metadata": {},
   "outputs": [
    {
     "data": {
      "text/plain": [
       "False"
      ]
     },
     "execution_count": 5,
     "metadata": {},
     "output_type": "execute_result"
    }
   ],
   "source": [
    "a < b"
   ]
  },
  {
   "cell_type": "code",
   "execution_count": 6,
   "id": "5f66eb75-91e3-4179-a539-589d9f99a273",
   "metadata": {},
   "outputs": [
    {
     "data": {
      "text/plain": [
       "True"
      ]
     },
     "execution_count": 6,
     "metadata": {},
     "output_type": "execute_result"
    }
   ],
   "source": [
    "a > b"
   ]
  },
  {
   "cell_type": "code",
   "execution_count": 8,
   "id": "d377888e",
   "metadata": {},
   "outputs": [
    {
     "name": "stdout",
     "output_type": "stream",
     "text": [
      "Access Granted\n"
     ]
    }
   ],
   "source": [
    "password = 123   #original password\n",
    "\n",
    "if password == 123:\n",
    "    print('Access Granted')"
   ]
  },
  {
   "cell_type": "code",
   "execution_count": 12,
   "id": "c09b6bc4",
   "metadata": {},
   "outputs": [
    {
     "name": "stdout",
     "output_type": "stream",
     "text": [
      "Try again\n"
     ]
    }
   ],
   "source": [
    "password = 123\n",
    "\n",
    "if password == 123476754:\n",
    "    print('Access Granted')\n",
    "else:\n",
    "    print('Try again')"
   ]
  },
  {
   "cell_type": "code",
   "execution_count": null,
   "id": "e2da3471",
   "metadata": {},
   "outputs": [],
   "source": [
    "#Check whether the number is positive/negative/zero"
   ]
  },
  {
   "cell_type": "code",
   "execution_count": 15,
   "id": "3141d7a2",
   "metadata": {},
   "outputs": [
    {
     "name": "stdout",
     "output_type": "stream",
     "text": [
      "Zero number\n"
     ]
    }
   ],
   "source": [
    "value = 0\n",
    "\n",
    "\n",
    "if value > 0:\n",
    "    print('Positive Number')\n",
    "elif value < 0:\n",
    "    print('Negative Number')\n",
    "else:\n",
    "    print('Zero number')"
   ]
  },
  {
   "cell_type": "code",
   "execution_count": 28,
   "id": "f9d35aec",
   "metadata": {},
   "outputs": [
    {
     "name": "stdin",
     "output_type": "stream",
     "text": [
      "ENter your age:  15\n"
     ]
    },
    {
     "name": "stdout",
     "output_type": "stream",
     "text": [
      "Ticket price is $7\n"
     ]
    }
   ],
   "source": [
    "age = int(input('ENter your age: '))\n",
    "\n",
    "if age < 10:\n",
    "    print('Ticket price is $2')\n",
    "elif age < 18:\n",
    "    print('Ticket price is $7')\n",
    "elif age < 60:\n",
    "    print('Ticket price is $25')\n",
    "else:\n",
    "    print('Price is $15')"
   ]
  },
  {
   "cell_type": "code",
   "execution_count": null,
   "id": "56e6f12a-3b3e-4bc9-afd0-5bf402cc9c92",
   "metadata": {},
   "outputs": [],
   "source": []
  }
 ],
 "metadata": {
  "kernelspec": {
   "display_name": "Python 3 (ipykernel)",
   "language": "python",
   "name": "python3"
  },
  "language_info": {
   "codemirror_mode": {
    "name": "ipython",
    "version": 3
   },
   "file_extension": ".py",
   "mimetype": "text/x-python",
   "name": "python",
   "nbconvert_exporter": "python",
   "pygments_lexer": "ipython3",
   "version": "3.12.4"
  }
 },
 "nbformat": 4,
 "nbformat_minor": 5
}
